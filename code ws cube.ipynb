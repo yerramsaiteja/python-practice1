{
 "cells": [
  {
   "cell_type": "code",
   "execution_count": 1,
   "id": "6b342281",
   "metadata": {},
   "outputs": [
    {
     "name": "stdout",
     "output_type": "stream",
     "text": [
      "sum of two numbers 40\n"
     ]
    }
   ],
   "source": [
    "#1pridefind function\n",
    "a = 20\n",
    "b = 20\n",
    "print(\"sum of two numbers\",a+b)"
   ]
  },
  {
   "cell_type": "code",
   "execution_count": 2,
   "id": "b52b13ae",
   "metadata": {},
   "outputs": [
    {
     "name": "stdout",
     "output_type": "stream",
     "text": [
      "70\n"
     ]
    }
   ],
   "source": [
    "a = 30\n",
    "b= 40\n",
    "c=a+b\n",
    "print(c)"
   ]
  },
  {
   "cell_type": "code",
   "execution_count": 3,
   "id": "ce21b4d8",
   "metadata": {},
   "outputs": [
    {
     "name": "stdout",
     "output_type": "stream",
     "text": [
      "enter a number hear: 67.8\n",
      "enter another number hear: 87.9\n",
      "the sum of the provided two numbers is  155.7\n"
     ]
    }
   ],
   "source": [
    "#2 user inputs\n",
    "num = float(input(\"enter a number hear: \"))\n",
    "num1 =float(input(\"enter another number hear: \"))\n",
    "sum = num + num1\n",
    "print (\"the sum of the provided two numbers is \", sum)\n"
   ]
  },
  {
   "cell_type": "code",
   "execution_count": 4,
   "id": "604ac1e5",
   "metadata": {},
   "outputs": [
    {
     "name": "stdout",
     "output_type": "stream",
     "text": [
      "enter a number here: 6\n",
      "the squre root of the given number is 8.0\n"
     ]
    }
   ],
   "source": [
    "# 3 find the squre root of number\n",
    "num = 64\n",
    "num1 = int(input(\"enter a number here: \"))\n",
    "sr = num**(1/2)\n",
    "print(\"the squre root of the given number is\",sr)"
   ]
  },
  {
   "cell_type": "code",
   "execution_count": 5,
   "id": "439f2f70",
   "metadata": {},
   "outputs": [
    {
     "name": "stdout",
     "output_type": "stream",
     "text": [
      "enter a number here: 78\n",
      "the squre root of the given number is  8.831760866327848\n"
     ]
    }
   ],
   "source": [
    "import math \n",
    "num = int(input(\"enter a number here: \"))\n",
    "sr = math.sqrt(num)\n",
    "print (\"the squre root of the given number is \",sr)"
   ]
  },
  {
   "cell_type": "code",
   "execution_count": 6,
   "id": "d47ebafb",
   "metadata": {},
   "outputs": [
    {
     "name": "stdout",
     "output_type": "stream",
     "text": [
      "enter the height of the triangle: 67\n",
      "enter the base of the triangle: 98\n",
      "the area of the triangle is 3283.0\n"
     ]
    }
   ],
   "source": [
    "#4 find the area of trinangle\n",
    "height = float(input(\"enter the height of the triangle: \"))\n",
    "base = float(input(\"enter the base of the triangle: \"))\n",
    "area = (1/2)*base*height\n",
    "print('the area of the triangle is',area)\n"
   ]
  },
  {
   "cell_type": "code",
   "execution_count": 7,
   "id": "887d1fd9",
   "metadata": {},
   "outputs": [
    {
     "name": "stdout",
     "output_type": "stream",
     "text": [
      "the value of temp variable is 10\n",
      "the value of X is  12\n",
      "the value of Y is 10\n"
     ]
    }
   ],
   "source": [
    "#5 swap two varibles\n",
    "X = 10 \n",
    "Y = 12\n",
    "\n",
    "temp = X\n",
    "print (\"the value of temp variable is\", temp )\n",
    "X = Y\n",
    "print(\"the value of X is \", X)\n",
    "\n",
    "Y = temp \n",
    "print(\"the value of Y is\",Y)\n"
   ]
  },
  {
   "cell_type": "code",
   "execution_count": 8,
   "id": "f67bf654",
   "metadata": {},
   "outputs": [
    {
     "name": "stdout",
     "output_type": "stream",
     "text": [
      "enter your value in kilometers98\n",
      "98.0 kms in miles will be  60.894358000000004 miles\n"
     ]
    }
   ],
   "source": [
    "# 6 write programe to convert  kilometers to miles\n",
    "km = float(input(\"enter your value in kilometers\"))\n",
    "miles = (0.621371)*km\n",
    "print(km,\"kms in miles will be \",miles,\"miles\")\n"
   ]
  },
  {
   "cell_type": "code",
   "execution_count": 9,
   "id": "c2f55530",
   "metadata": {},
   "outputs": [
    {
     "name": "stdout",
     "output_type": "stream",
     "text": [
      "9\n",
      "it is a positive number\n"
     ]
    }
   ],
   "source": [
    "#7 write the programe to check the number is negitive or positive\n",
    "num = int(input())\n",
    "if num > 0:\n",
    "    print(\"it is a positive number\")\n",
    "elif num == 0:\n",
    "    print (\"it is zero\")\n",
    "else:\n",
    "    print(\"it is a nugetive number\")\n",
    "    \n",
    "\n"
   ]
  },
  {
   "cell_type": "code",
   "execution_count": 10,
   "id": "c4bb2add",
   "metadata": {},
   "outputs": [
    {
     "name": "stdout",
     "output_type": "stream",
     "text": [
      "9\n",
      "given number is odd\n"
     ]
    }
   ],
   "source": [
    "#8 check the given number is odd number or even number\n",
    "num = int(input())\n",
    "if  num % 2 == 0:\n",
    "    print(\"given number is even\")\n",
    "else:\n",
    "    print(\"given number is odd\")\n"
   ]
  },
  {
   "cell_type": "code",
   "execution_count": 24,
   "id": "36faec27",
   "metadata": {},
   "outputs": [
    {
     "name": "stdout",
     "output_type": "stream",
     "text": [
      "enter a year: 2024\n",
      "2024 is a leap year\n"
     ]
    }
   ],
   "source": [
    "#9 check the given number is leap year are not\n",
    "year = int(input(\"enter a year: \"))\n",
    "\n",
    "if (year % 400 == 0) :\n",
    "    print(year,\"is a leap year\")\n",
    "elif (year % 4 == 0) and (year % 100 != 0):\n",
    "    print(year,\"is a leap year\")\n",
    "else:\n",
    "    print(\"year,is not a leap year\")\n",
    "\n"
   ]
  },
  {
   "cell_type": "code",
   "execution_count": 21,
   "id": "89e9b796",
   "metadata": {},
   "outputs": [
    {
     "name": "stdout",
     "output_type": "stream",
     "text": [
      "87 is the largest number\n"
     ]
    }
   ],
   "source": [
    "#10 write a programe to find largest numbers\n",
    "num = 12\n",
    "num1 = 46\n",
    "num2 =87\n",
    "\n",
    "if (num > num1) and (num > num2):\n",
    "    print (num,\"is the largest number\")\n",
    "elif(num > num2) and (num2 > num3):\n",
    "    print(num2,\"is the largest number\")\n",
    "else:\n",
    "    print (num2, \"is the largest number\")\n",
    "    \n",
    "\n"
   ]
  },
  {
   "cell_type": "code",
   "execution_count": 27,
   "id": "841f5357",
   "metadata": {},
   "outputs": [
    {
     "name": "stdout",
     "output_type": "stream",
     "text": [
      "enter a number here78\n",
      "it is not a prime number\n"
     ]
    }
   ],
   "source": [
    "#11 check the given number is prime are not\n",
    "num = int(input(\"enter a number here\"))\n",
    "    \n",
    "if num == 1:\n",
    "    print(\"it is not a prime number\")\n",
    "if num > 1:\n",
    "    for i in range(2,num):\n",
    "        if num % i == 0:\n",
    "            print (\"it is not a prime number\")\n",
    "            break\n",
    "    else:\n",
    "        print(\"it is a prime number\")\n",
    "            \n",
    "        \n",
    "    \n"
   ]
  },
  {
   "cell_type": "code",
   "execution_count": 33,
   "id": "8ba04e86",
   "metadata": {},
   "outputs": [
    {
     "name": "stdout",
     "output_type": "stream",
     "text": [
      "enter a number here11\n",
      "it is  a prime number\n"
     ]
    }
   ],
   "source": [
    "num = int(input(\"enter a number here\"))\n",
    "if num == 1:\n",
    "    print(\"it is not a prime number\")\n",
    "if num >1:\n",
    "    for i in range(2,num):\n",
    "        if num % i == 0:\n",
    "            print(\"it is not a prime number\")\n",
    "            break\n",
    "    else:\n",
    "        print(\"it is  a prime number\")"
   ]
  },
  {
   "cell_type": "markdown",
   "id": "7e6a5a4c",
   "metadata": {},
   "source": [
    "# "
   ]
  },
  {
   "cell_type": "code",
   "execution_count": 34,
   "id": "64093e85",
   "metadata": {},
   "outputs": [
    {
     "data": {
      "text/plain": [
       "9"
      ]
     },
     "execution_count": 34,
     "metadata": {},
     "output_type": "execute_result"
    }
   ],
   "source": [
    "9"
   ]
  },
  {
   "cell_type": "code",
   "execution_count": 39,
   "id": "5f9649c5",
   "metadata": {},
   "outputs": [
    {
     "name": "stdout",
     "output_type": "stream",
     "text": [
      "9\n"
     ]
    }
   ],
   "source": [
    "#12 generate random number\n",
    "import random \n",
    "num = random.randint(0,10)\n",
    "print(num)"
   ]
  },
  {
   "cell_type": "code",
   "execution_count": null,
   "id": "bc498c71",
   "metadata": {},
   "outputs": [],
   "source": []
  },
  {
   "cell_type": "code",
   "execution_count": null,
   "id": "1930e564",
   "metadata": {},
   "outputs": [],
   "source": []
  }
 ],
 "metadata": {
  "kernelspec": {
   "display_name": "Python 3 (ipykernel)",
   "language": "python",
   "name": "python3"
  },
  "language_info": {
   "codemirror_mode": {
    "name": "ipython",
    "version": 3
   },
   "file_extension": ".py",
   "mimetype": "text/x-python",
   "name": "python",
   "nbconvert_exporter": "python",
   "pygments_lexer": "ipython3",
   "version": "3.10.9"
  }
 },
 "nbformat": 4,
 "nbformat_minor": 5
}
